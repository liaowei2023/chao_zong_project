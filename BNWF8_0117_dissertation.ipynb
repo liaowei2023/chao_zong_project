{
  "cells": [
    {
      "cell_type": "code",
      "execution_count": null,
      "metadata": {
        "id": "GPkUEz6gDXws",
        "colab": {
          "base_uri": "https://localhost:8080/"
        },
        "outputId": "0c32eecb-aad5-464d-b81f-fe09c92f3321"
      },
      "outputs": [
        {
          "output_type": "stream",
          "name": "stdout",
          "text": [
            "Mounted at /content/drive\n"
          ]
        }
      ],
      "source": [
        "from google.colab import drive\n",
        "drive.mount('/content/drive')"
      ]
    },
    {
      "cell_type": "markdown",
      "metadata": {
        "id": "8ZIAeypR168g"
      },
      "source": [
        "# 0117 Dissertation\n",
        "\n",
        "- Supervisor: Prof. Josep Grau-Bove\n",
        "- Candidate: BNWF8\n",
        "- [Database Directory](https://drive.google.com/drive/folders/1YoR_6sK0GxmpRQZZURBTNu3T7ClDk3Dg?usp=sharing), including two segment plans. This notebook examplies the \"integrated_segment\" plan which is the final plan for my dissertation.\n",
        "  - Node info CSV\n",
        "  - Edge info CSV\n",
        "  - Results\n",
        "    - ALL intrinsic and extrinsic metric values for each segment of Chaozong\n",
        "    - DepthmapX file (Space Syntax Graph file, read by [DepthmapX](https://github.com/SpaceGroupUCL/depthmapX/releases))\n",
        "- Other data:\n",
        "  - [the store survey of Chaozong](https://docs.google.com/spreadsheets/d/1GuUdx-x8SPNiN8LtoLlw02ac-wweSxW_/edit?usp=drive_link&ouid=103562281592361406546&rtpof=true&sd=true) provided by Hunan University\n",
        "- Intro: This notebook is comprised of two parts\n",
        "  - Calculation of Entropy Segment Integration (ESIN) and Entropy Segment Choice (ESCH)\n",
        "  - GLM model fitting"
      ]
    },
    {
      "cell_type": "markdown",
      "metadata": {
        "id": "Pr7d9a4jFOdx"
      },
      "source": [
        "## 1 - Calculate intrinsic and extrinsic values\n",
        "Two csv files are for constructing network, one is for nodes, another is for edges. Please download and update the directories while reading csv files.\n",
        "\n",
        "1.   [node csv](https://drive.google.com/file/d/1eDdWulHMgJHJdwwJGmA1UwpxzUQpHkyy/view?usp=share_link)\n",
        "2.   [edge csv](https://drive.google.com/file/d/1FNtPy-K6zlVcM6WyUsAp7eAedh31CQ9X/view?usp=share_link)\n",
        "\n"
      ]
    },
    {
      "cell_type": "code",
      "execution_count": null,
      "metadata": {
        "id": "FM3thvu6DWj0"
      },
      "outputs": [],
      "source": [
        "import numpy as np\n",
        "import pandas as pd\n",
        "import seaborn as sns\n",
        "import matplotlib.pyplot as plt"
      ]
    },
    {
      "cell_type": "code",
      "execution_count": null,
      "metadata": {
        "id": "7eU0gBtADdT_"
      },
      "outputs": [],
      "source": [
        "# import node and edge info\n",
        "# please download files per the directories\n",
        "# integrated segment plan\n",
        "node_df = pd.read_csv('/content/drive/MyDrive/BNWF8/integrated_segment/network_construction/Node_integrated.csv')\n",
        "edge_df = pd.read_csv('/content/drive/MyDrive/BNWF8/integrated_segment/network_construction/Edge_integrated.csv')\n",
        "\n",
        "# fragmented segment plan\n",
        "# node_df = pd.read_csv('/content/drive/MyDrive/BNWF8/fragmented_segment/network_construction/Node_fragmented.csv')\n",
        "# edge_df = pd.read_csv('/content/drive/MyDrive/BNWF8/fragmented_segment/network_construction/Edge_fragmented.csv')"
      ]
    },
    {
      "cell_type": "markdown",
      "metadata": {
        "id": "bd2pP8NZ-iLe"
      },
      "source": [
        "**node csv columns introduction:**\n",
        "\n",
        "1.   Ref: the segment ID for constructing maps in DepthmapX\n",
        "2.   x1, x2, y1, y2: the coordinates of the two endings of segments\n",
        "3.   nodes: the names of segments\n",
        "4.   check_in: the number of check-ins for each segment\n",
        "5.   1_1 to 4_3: the category code for Facades and Fronts, where the first digit stands for the style types (1: Non-historic, 2: Abstract-historic, 3: Fake-historic, 4:True-historic), and the second digit represents the visual quality (1: Low, 2: Medium, 3: High), e.g. 2_3 means Abstract-historic & High visual quality\n",
        "6.   constitutedness: a space syntax metric to evaluate the degree of safety\n",
        "7.   choice: space syntax metric to measure the betweenness centrality of a segment\n",
        "8.   integration: space syntax metric to measure the closeness centrality of a segment\n",
        "9.   NACH: space syntax angular-weighted metric to measure the angular betweenness centrality of a segment\n",
        "10.   NACH: space syntax angular-weighted metric to measure the angular closeness centrality of a segment\n",
        "\n",
        "**edge csv columns introduction:**\n",
        "\n",
        "1.   from: the starting node\n",
        "2.   to: the destination node\n",
        "\n",
        "however the graph is undirected!"
      ]
    },
    {
      "cell_type": "markdown",
      "metadata": {
        "id": "dp9iT_u2DwXx"
      },
      "source": [
        "### 1.1 Define types of entropy based on speculations of tourists' preferences of Facades and Fronts (FF)"
      ]
    },
    {
      "cell_type": "code",
      "execution_count": null,
      "metadata": {
        "id": "Udw0u3jHF4yY"
      },
      "outputs": [],
      "source": [
        "# define entropy types\n",
        "type_dict = {\n",
        "            'total':['4_3','4_2','4_1','3_3','3_2','3_1','2_3','2_2','2_1','1_3','1_2','1_1']\n",
        "            ,'high_quality':['4_3','3_3','2_3','1_3']\n",
        "            ,'above_low_quality':['4_3','4_2','3_3','3_2','2_3','2_2','1_3','1_2']\n",
        "            ,'true_hist':['4_3','4_2','4_1']\n",
        "            ,'true_hist_abvlow':['4_3','4_2']\n",
        "            ,'fake_hist':['3_3','3_2','3_1']\n",
        "            ,'fake_hist_abvlow':['3_3','3_2']\n",
        "            ,'abstract_hist':['2_3','2_2','2_1']\n",
        "            ,'abstract_hist_abvlow':['2_3','2_2']\n",
        "            ,'non_hist':['1_3','1_2','1_1']\n",
        "            ,'non_hist_abvlow':['1_3','1_2']\n",
        "              }\n",
        "\n",
        "type_list = ['total','high_quality','above_low_quality',\n",
        "             'true_hist','fake_hist','abstract_hist','non_hist','true_hist_abvlow',\n",
        "             'fake_hist_abvlow', 'abstract_hist_abvlow','non_hist_abvlow']\n"
      ]
    },
    {
      "cell_type": "markdown",
      "metadata": {
        "id": "8rBkIbxhDpN0"
      },
      "source": [
        "### 1.2 Calculate Intrinsic Metric Values\n",
        "\n",
        "\n",
        "\n",
        "1.   Count the number of FFs per the types, let's say $n$\n",
        "2.   Using simplified Shannon Information Entropy formula to calculate the entropy value: $H(X) = \\log_2 n$\n",
        "3.   In case of $n=0$ (no FFs in a segment) which leads to error in logrithm computation, 1 is added to $n$ - $H(X) = \\log_2 (n + 1)$\n",
        "\n",
        "\n",
        "\n"
      ]
    },
    {
      "cell_type": "code",
      "execution_count": null,
      "metadata": {
        "id": "DjPRl23iDITu",
        "colab": {
          "base_uri": "https://localhost:8080/"
        },
        "outputId": "9aaf7923-b1d6-461c-e661-6cc6794cf7ac"
      },
      "outputs": [
        {
          "output_type": "stream",
          "name": "stderr",
          "text": [
            "<ipython-input-111-80c87b212f6c>:4: FutureWarning: Dropping of nuisance columns in DataFrame reductions (with 'numeric_only=None') is deprecated; in a future version this will raise TypeError.  Select only valid columns before calling the reduction.\n",
            "  dataframe['info_num'] = dataframe[type_dict[entropy_type]].sum(axis=1)  # acquire the total amounts per the types defined\n",
            "<ipython-input-111-80c87b212f6c>:4: FutureWarning: Dropping of nuisance columns in DataFrame reductions (with 'numeric_only=None') is deprecated; in a future version this will raise TypeError.  Select only valid columns before calling the reduction.\n",
            "  dataframe['info_num'] = dataframe[type_dict[entropy_type]].sum(axis=1)  # acquire the total amounts per the types defined\n"
          ]
        }
      ],
      "source": [
        "# function of calculating intrinsic metric values (segment entropies) for nodes\n",
        "import math\n",
        "def calc_entropy(entropy_type, dataframe):\n",
        "  dataframe['info_num'] = dataframe[type_dict[entropy_type]].sum(axis=1)  # acquire the total amounts per the types defined\n",
        "  dataframe['info_num'] = dataframe['info_num'] + 1  # add 1 to avoid the logorithm calculation error\n",
        "  entropy_nm = entropy_type + '_ep'\n",
        "  dataframe[entropy_nm] =  dataframe['info_num'].apply(lambda x: math.log(x,2))\n",
        "  return dataframe\n",
        "\n",
        "# iterate the types for calculating intrinsic metric values\n",
        "for type in type_list:\n",
        "  node_df = calc_entropy(type, node_df)"
      ]
    },
    {
      "cell_type": "markdown",
      "metadata": {
        "id": "UxZM34OdFHzb"
      },
      "source": [
        "### 1.3 Calculate Extrinsic Metric Values (ESIN and ESCH) - No need to run, just for reviewing!\n",
        "\n",
        "The results of this section is stored in [this folder](https://drive.google.com/drive/folders/1tanzwoT6qsHYmS7xymD6Ja1c3Hasfrip?usp=share_link), so there is no need to run if not necessary!\n",
        "\n",
        "The code is only available for one type of entropy each time in Etrinsic metric calculation. Please run from to each time and the results will be stored in a [folder](https://drive.google.com/drive/folders/1tanzwoT6qsHYmS7xymD6Ja1c3Hasfrip?usp=share_link) before merged for GLM fitting."
      ]
    },
    {
      "cell_type": "code",
      "execution_count": null,
      "metadata": {
        "id": "pn_nijUr7hqA"
      },
      "outputs": [],
      "source": [
        "# Step-1\n",
        "# choose what type of entropy for later calculation\n",
        "\n",
        "ep_type = 'total_ep'\n",
        "# ep_type = 'high_quality_ep'\n",
        "# ep_type = 'above_low_quality_ep'\n",
        "# ep_type = 'true_hist_ep'\n",
        "# ep_type = 'fake_hist_ep'\n",
        "# ep_type = 'abstract_hist_ep'\n",
        "# ep_type = 'non_hist_ep'\n",
        "# ep_type = 'true_hist_abvlow_ep'\n",
        "# ep_type = 'fake_hist_abvlow_ep'\n",
        "# ep_type = 'abstract_hist_abvlow_ep'\n",
        "# ep_type = 'non_hist_abvlow_ep'\n",
        "\n",
        "# convert nodes labels and entropy attributes to dict for constructing network\n",
        "node_entropy_dict = node_df.set_index('nodes')[ep_type].to_dict()"
      ]
    },
    {
      "cell_type": "code",
      "execution_count": null,
      "metadata": {
        "id": "-GAig7I9LT_Q"
      },
      "outputs": [],
      "source": [
        "# Step-2\n",
        "# Create the graph\n",
        "import networkx as nx\n",
        "G = nx.Graph()\n",
        "G.add_nodes_from(node_entropy_dict.keys())\n",
        "\n",
        "# Add node entropy data as node attributes\n",
        "nx.set_node_attributes(G, node_entropy_dict, 'entropy')\n",
        "\n",
        "# Add undirected edges to the graph\n",
        "G.add_edges_from(edge_df[['from', 'to']].values)"
      ]
    },
    {
      "cell_type": "code",
      "execution_count": null,
      "metadata": {
        "id": "7RbiJvWSMHIn"
      },
      "outputs": [],
      "source": [
        "# Step-3\n",
        "# calculate the entropy weighted integration and choice for the network\n",
        "\n",
        "def entropy_weight(G, X):\n",
        "    # create a dictionary for updating the betweenness of all nodes when computing the shortest paths each time\n",
        "    nodes_list = list(G.nodes)\n",
        "    betweenness_count_dict = {}\n",
        "    for vet in nodes_list:\n",
        "      betweenness_count_dict[vet]=0.\n",
        "\n",
        "    # create a list to contain the shortest routes with maximum entropy\n",
        "    max_step_entropy_shortest_routes_list = []\n",
        "\n",
        "    # set each node as destinations for calculate ESIN while updating the betweenness for all nodes\n",
        "    nodes_num = len(list(G.nodes))\n",
        "    for target_node in G.nodes():\n",
        "        # make sure the target node is X\n",
        "        if target_node == X:\n",
        "            continue\n",
        "\n",
        "        # calculate all shortest paths from any nodes to the target node X\n",
        "        shortest_paths = nx.all_shortest_paths(G, source=X, target=target_node)\n",
        "        shortest_paths = list(shortest_paths)\n",
        "        num_shortest_paths = len(shortest_paths)\n",
        "\n",
        "        # determine the shortest paths with maximun entropy values\n",
        "        source_node = ''  # record the starting node\n",
        "        max_entropy = 0.\n",
        "        min_step_count = 0.\n",
        "        path_entropy_per_step = 0.\n",
        "        max_entropy_path_list_per_source_node = []\n",
        "        num = 0\n",
        "        shortest_path_entropy_list = []\n",
        "\n",
        "        while num < num_shortest_paths:\n",
        "            path = shortest_paths[num]\n",
        "\n",
        "            # entropy accumulation of any other node to X through the shortest topological path\n",
        "            path_entropy = sum(G.nodes[node]['entropy'] for node in path)\n",
        "\n",
        "            # record the path and entropy value for later determination of whether the number of path with maximum entropy is more than one,\n",
        "            # if the routes is more than one, then the betweenness should be upadted more than onces\n",
        "            shortest_path_entropy_list.append((path,path_entropy))\n",
        "\n",
        "            # update the path with the maximum accumulated entropy\n",
        "            if path_entropy > max_entropy:\n",
        "\n",
        "              max_entropy = path_entropy\n",
        "              max_entropy_path = path\n",
        "              min_step_count = len(path)-1\n",
        "              max_entropy_path_list_per_source_node = [i for i in max_entropy_path[1:-1]]  # 途经点\n",
        "\n",
        "              # remove the starting nodes because the intrinsic entropy of starting node cannot be taken into account if tourists decide to leave the starting node.\n",
        "              max_entropy_list = [G.nodes[node]['entropy'] for node in path]\n",
        "              revoke_source_node_max_entropy_list = max_entropy_list[:-1]\n",
        "              revoke_source_node_max_entropy = sum(revoke_source_node_max_entropy_list)\n",
        "              source_node = max_entropy_path[-1]\n",
        "              num += 1\n",
        "            else:\n",
        "              num += 1\n",
        "\n",
        "        # determining whether the number of path with maximum entropy is more than one\n",
        "        max_entropy_shortest_path = max(shortest_path_entropy_list, key=lambda x: x[1])[1]\n",
        "        max_entropy_shortest_paths_list = [element for element in shortest_path_entropy_list if element[1] == max_entropy_shortest_path]\n",
        "\n",
        "        # update betweenness per the number of shortest & maximum-entropy paths\n",
        "        if len(max_entropy_shortest_paths_list) == 1:  # when only one shortest & maximum-entropy path\n",
        "            for max_vet in max_entropy_shortest_paths_list[0][0][1:-1]:\n",
        "                betweenness_count_dict[max_vet] += 1/num_shortest_paths\n",
        "\n",
        "        elif len(max_entropy_shortest_paths_list) > 1:  # when more than one shortest & maximum-entropy paths\n",
        "            for max_element in max_entropy_shortest_paths_list:\n",
        "              max_element_list = max_element[0][1:-1]\n",
        "              for max_vet_2 in max_element_list:\n",
        "                betweenness_count_dict[max_vet_2] += 1/num_shortest_paths\n",
        "\n",
        "        # record all the info of shortest & maximum-entropy paths\n",
        "        max_step_entropy_shortest_routes_list.append((target_node,source_node,max_entropy, max_entropy_path_list_per_source_node, min_step_count))\n",
        "\n",
        "\n",
        "    # calculate ESIN - the entropy gain per step when through shortest & maximum-entropy path\n",
        "    total_entropy_list = [i[2] for i in max_step_entropy_shortest_routes_list]\n",
        "    total_node_count_list = [i[-1] for i in max_step_entropy_shortest_routes_list]\n",
        "\n",
        "    total_entropy = np.sum(total_entropy_list)\n",
        "    total_node_count = np.sum(total_node_count_list)\n",
        "\n",
        "    entropy_integration = total_entropy / total_node_count\n",
        "\n",
        "    # betweenness fractions of all other nodes except X is recorded which will be summed and normalised after the iteration of this function for all nodes\n",
        "    return X, entropy_integration, betweenness_count_dict\n",
        "\n",
        "# test the function with a segment\n",
        "# entropy_weight(G, 'LS-2')"
      ]
    },
    {
      "cell_type": "code",
      "execution_count": null,
      "metadata": {
        "id": "HASbTLOInQWP"
      },
      "outputs": [],
      "source": [
        "# Step-4\n",
        "# betweenness calculation\n",
        "\n",
        "# get the list of all nodes\n",
        "nodes_list = list(G.nodes)\n",
        "\n",
        "# create a betweenness dict of all nodes for updating betweenness of all nodes while calculating the ESIN\n",
        "betweenness_count_dict = {}\n",
        "for item in nodes_list:\n",
        "  betweenness_count_dict[item]=0.\n",
        "\n",
        "# iterate the function to update the betweenness fractions for all nodes and the betweenness centrality (ESCH) is calcuated for all nodes\n",
        "for node_X in G.nodes:\n",
        "  # print(node_X)\n",
        "  result = entropy_weight(G, node_X)\n",
        "  # print(result)\n",
        "  betweenness_count_indi_dict = result[2]\n",
        "  for k, v in betweenness_count_indi_dict.items():\n",
        "    betweenness_count_dict[k]+=v\n",
        "\n",
        "# normalise the ESCH\n",
        "# since the betweenness centrality is increased as the amount of nodes increased, the centrality can be normalised to 0 to 1 by dividing it by the combination of any two nodes\n",
        "denominator = (len(G.nodes)-1)*(len(G.nodes)-2)/2  # for undirected graph /2 is required\n",
        "\n",
        "def divide_dict_values(dictionary, divisor):\n",
        "    result_dict = {}\n",
        "    for key, value in dictionary.items():\n",
        "        result_dict[key] = value / divisor\n",
        "    return result_dict\n",
        "\n",
        "# normalised ESCH\n",
        "betweenness_dict = divide_dict_values(betweenness_count_dict, denominator)\n",
        "\n",
        "# betweenness_dict"
      ]
    },
    {
      "cell_type": "code",
      "execution_count": null,
      "metadata": {
        "id": "1oXE_zGz0ico"
      },
      "outputs": [],
      "source": [
        "# Step-5\n",
        "# add the ESIN and ESCH as columns of csv file for later merging\n",
        "ep_type_integration_col = ep_type + '_integration'\n",
        "ep_type_choice_col = ep_type + '_choice'\n",
        "\n",
        "# step_entropy_mean,step_entropy_std\n",
        "for node_X in G.nodes:\n",
        "    value = entropy_weight(G, node_X)\n",
        "    node_df.loc[node_df['nodes'] == node_X, ep_type_integration_col] = value[1]\n",
        "    try:\n",
        "        node_df.loc[node_df['nodes'] == node_X, ep_type_choice_col] = betweenness_dict[node_X]\n",
        "    except KeyError:\n",
        "        node_df.loc[node_df['nodes'] == node_X, ep_type_choice_col] = 0\n"
      ]
    },
    {
      "cell_type": "code",
      "execution_count": null,
      "metadata": {
        "id": "PWxXsFJY_4Jk"
      },
      "outputs": [],
      "source": [
        "# Step-6\n",
        "# After store the results as csv file, please go back to Step-1 and change the type of entropy before starting over to this step\n",
        "# There is no need to modfify the file name, it will be automatically updated.\n",
        "# integrated segment plan\n",
        "outpath = '/content/drive/MyDrive/BNWF8/integrated_segment/results/categorical_perceptual_metric_values/' + ep_type +'.csv'\n",
        "node_df.to_csv(outpath)\n",
        "\n",
        "# fragmented segment plan\n",
        "# outpath = '/content/drive/MyDrive/BNWF8/fragmented_segment/results/categorical_perceptual_metric_values/' + ep_type +'.csv'\n",
        "# node_df.to_csv(outpath)"
      ]
    },
    {
      "cell_type": "markdown",
      "metadata": {
        "id": "ZkCgiIKaQxxc"
      },
      "source": [
        "**Make sure that all the types of entropy are calculated and stored!!!**"
      ]
    },
    {
      "cell_type": "markdown",
      "metadata": {
        "id": "BYqP3ENMWZNs"
      },
      "source": [
        "### 1.4 Determine correlations between metrics and check-ins - Directly Runnable without all the former steps"
      ]
    },
    {
      "cell_type": "code",
      "execution_count": null,
      "metadata": {
        "id": "WL_8oO3DHo55"
      },
      "outputs": [],
      "source": [
        "# merging all calculated results of different entropy types\n",
        "import os\n",
        "# Specify the folder path\n",
        "# integrated segment plan\n",
        "folder_path = '/content/drive/MyDrive/BNWF8/integrated_segment/results/categorical_perceptual_metric_values'\n",
        "\n",
        "\n",
        "# fragmented segment plan\n",
        "# folder_path = '/content/drive/MyDrive/BNWF8/fragmented_segment/results/categorical_perceptual_metric_values'\n",
        "\n",
        "# Get a list of all CSV files in the folder\n",
        "csv_files = [file for file in os.listdir(folder_path) if file.endswith('.csv')]\n",
        "\n",
        "# Initialize an empty DataFrame to store merged data\n",
        "merged_data = pd.DataFrame()\n",
        "\n",
        "for filename in os.listdir(folder_path):\n",
        "    if filename.endswith(\".csv\"):\n",
        "        file_path = os.path.join(folder_path, filename)\n",
        "        temp_df = pd.read_csv(file_path, index_col=0)  # Assuming the index is in the first column\n",
        "        # print(temp_df.columns)\n",
        "        merged_data = pd.concat([merged_data, temp_df], axis=1, join='outer')\n",
        "\n",
        "merged_data = merged_data.loc[:,~merged_data.columns.duplicated()]\n",
        "\n",
        "# merged_data.columns"
      ]
    },
    {
      "cell_type": "code",
      "execution_count": null,
      "metadata": {
        "colab": {
          "base_uri": "https://localhost:8080/",
          "height": 564
        },
        "id": "-nICwsA31DuS",
        "outputId": "4c2efb6d-0e77-419d-b27c-aa5cf36f03ee"
      },
      "outputs": [
        {
          "output_type": "display_data",
          "data": {
            "text/plain": [
              "<Figure size 800x600 with 1 Axes>"
            ],
            "image/png": "[encoded data removed]"
          },
          "metadata": {}
        }
      ],
      "source": [
        "# Fit a linear regression model\n",
        "import numpy as np\n",
        "import matplotlib.pyplot as plt\n",
        "import seaborn as sns\n",
        "from sklearn.linear_model import LinearRegression\n",
        "from sklearn.metrics import r2_score\n",
        "\n",
        "# Fit a linear regression model\n",
        "model = LinearRegression()\n",
        "\n",
        "\n",
        "## intrinsic properties\n",
        "# x = merged_data['total_ep']  ##\n",
        "# x = merged_data['true_hist_ep'] ##\n",
        "# x = merged_data['true_hist_abvlow_ep'] ##\n",
        "# x = merged_data['fake_hist_ep']  ##\n",
        "# x = merged_data['fake_hist_abvlow_ep']  ##\n",
        "# x = merged_data['abstract_hist_ep']  ##\n",
        "# x = merged_data['abstract_hist_abvlow_ep']  ##\n",
        "# x = merged_data['non_hist_ep']  ##\n",
        "# x = merged_data['non_hist_abvlow_ep'] ##\n",
        "# x = merged_data['high_quality_ep']\n",
        "# x = merged_data['above_low_quality_ep']  ##\n",
        "# x = merged_data['constitudedness']  ##\n",
        "\n",
        "\n",
        "## extrinsic properties\n",
        "# x = merged_data['total_ep_integration']  ##\n",
        "# x = merged_data['total_ep_choice']  ##\n",
        "\n",
        "# x = merged_data['true_hist_ep_integration']  ##\n",
        "# x = merged_data['true_hist_ep_choice']  ##\n",
        "\n",
        "# x = merged_data['true_hist_abvlow_ep_integration']  ##\n",
        "# x = merged_data['true_hist_abvlow_ep_choice']  ##\n",
        "\n",
        "# x = merged_data['fake_hist_ep_integration']  ##\n",
        "# x = merged_data['fake_hist_ep_choice']  ##\n",
        "\n",
        "# x = merged_data['fake_hist_abvlow_ep_integration']  ##\n",
        "# x = merged_data['fake_hist_abvlow_ep_choice']  ##\n",
        "\n",
        "# x = merged_data['abstract_hist_ep_integration']  ##\n",
        "# x = merged_data['abstract_hist_ep_choice']  ##\n",
        "\n",
        "# x = merged_data['abstract_hist_abvlow_ep_integration']  ##\n",
        "# x = merged_data['abstract_hist_abvlow_ep_choice']  ##\n",
        "\n",
        "# x = merged_data['non_hist_ep_integration']  ##\n",
        "# x = merged_data['non_hist_ep_choice']  ##\n",
        "\n",
        "# x = merged_data['non_hist_abvlow_ep_integration']  ##\n",
        "# x = merged_data['non_hist_abvlow_ep_choice']  ##\n",
        "\n",
        "# x = merged_data['high_quality_ep_integration']  ##\n",
        "# x = merged_data['high_quality_ep_choice']  ##\n",
        "\n",
        "# x = merged_data['above_low_quality_ep_integration']  ##\n",
        "# x = merged_data['above_low_quality_ep_choice']  ##\n",
        "\n",
        "\n",
        "\n",
        "\n",
        "# x = merged_data['integration']  ##\n",
        "# x = merged_data['choice']  ##\n",
        "# x = merged_data['NAIN']  ##\n",
        "x = merged_data['NACH']  ##\n",
        "\n",
        "\n",
        "y = merged_data['check_in']\n",
        "\n",
        "x = np.array(x)\n",
        "y = np.array(y)\n",
        "\n",
        "\n",
        "def log_normalize(array):\n",
        "    # Min-max normalization\n",
        "    min_val = array.min()\n",
        "    max_val = array.max()\n",
        "    min_max_normalized = (array - min_val) / (max_val - min_val)\n",
        "\n",
        "    # Adding a small constant epsilon\n",
        "    epsilon = 1\n",
        "    adjusted_array = min_max_normalized + epsilon\n",
        "\n",
        "    # Apply logarithm\n",
        "    log_normalized_array = np.log(adjusted_array)  # For natural log\n",
        "\n",
        "    return log_normalized_array\n",
        "\n",
        "y = log_normalize(y)\n",
        "\n",
        "\n",
        "model.fit(x.reshape(-1, 1), y)\n",
        "y_pred = model.predict(x.reshape(-1, 1))\n",
        "\n",
        "# Calculate R-squared value\n",
        "r2 = r2_score(y, y_pred)\n",
        "r2\n",
        "# Plot the scatter plot with regression line\n",
        "plt.figure(figsize=(8, 6))\n",
        "sns.scatterplot(x=x, y=y, label='Data points')\n",
        "sns.lineplot(x=x, y=y_pred, color='red', label='Regression line')\n",
        "plt.xlabel('X')\n",
        "plt.ylabel('Y')\n",
        "plt.title(f'Scatter Plot with Regression Line (R-squared = {r2:.3f})')\n",
        "plt.legend()\n",
        "plt.show()\n"
      ]
    },
    {
      "cell_type": "markdown",
      "metadata": {
        "id": "tpyhhju68R-L"
      },
      "source": [
        "## 2 - GLM fitting"
      ]
    },
    {
      "cell_type": "code",
      "execution_count": null,
      "metadata": {
        "id": "Lm7TlKB2Dbgn"
      },
      "outputs": [],
      "source": [
        "import statsmodels.api as sm\n",
        "\n",
        "# integrated segments\n",
        "# all predictors\n",
        "# X = merged_data[['constitudedness', 'choice', 'integration', 'NACH', 'NAIN',\n",
        "#                 'total_ep', 'high_quality_ep', 'above_low_quality_ep', 'true_hist_ep',\n",
        "#                 'fake_hist_ep', 'abstract_hist_ep', 'non_hist_ep',\n",
        "#                 'true_hist_abvlow_ep', 'fake_hist_abvlow_ep', 'abstract_hist_abvlow_ep',\n",
        "#                 'non_hist_abvlow_ep', 'total_ep_integration', 'total_ep_choice',\n",
        "#                 'high_quality_ep_integration', 'high_quality_ep_choice',\n",
        "#                 'above_low_quality_ep_integration', 'above_low_quality_ep_choice',\n",
        "#                 'true_hist_ep_integration', 'true_hist_ep_choice',\n",
        "#                 'fake_hist_ep_integration', 'fake_hist_ep_choice',\n",
        "#                 'abstract_hist_ep_integration', 'abstract_hist_ep_choice',\n",
        "#                 'non_hist_ep_integration', 'non_hist_ep_choice',\n",
        "#                 'true_hist_abvlow_ep_integration', 'true_hist_abvlow_ep_choice',\n",
        "#                 'fake_hist_abvlow_ep_integration', 'fake_hist_abvlow_ep_choice',\n",
        "#                 'abstract_hist_abvlow_ep_integration', 'abstract_hist_abvlow_ep_choice',\n",
        "#                 'non_hist_abvlow_ep_integration', 'non_hist_abvlow_ep_choice'\n",
        "#                  ]]\n",
        "\n",
        "## final predictors - VIF<10 & p<0.05\n",
        "X = merged_data[['constitudedness',\n",
        "                 'choice',\n",
        "                 'high_quality_ep',\n",
        "                 'fake_hist_ep',\n",
        "                 'non_hist_ep',\n",
        "                 'true_hist_abvlow_ep_integration',\n",
        "                ]]\n",
        "\n",
        "y = merged_data['check_in']\n",
        "\n",
        "\n",
        "# #### fitting the log-normalized check in below #####\n",
        "# X = merged_data[['constitudedness', 'integration', 'NACH', 'NAIN',\n",
        "#                 'total_ep', 'high_quality_ep',\n",
        "#                 'abstract_hist_ep',\n",
        "#                 'true_hist_abvlow_ep', 'fake_hist_abvlow_ep', 'abstract_hist_abvlow_ep',\n",
        "#                 'non_hist_abvlow_ep', 'total_ep_integration',\n",
        "#                 'high_quality_ep_integration', 'high_quality_ep_choice',\n",
        "#                 'above_low_quality_ep_integration',\n",
        "#                 'true_hist_ep_integration', 'true_hist_ep_choice',\n",
        "#                 'fake_hist_ep_integration',\n",
        "#                 'abstract_hist_ep_integration', 'abstract_hist_ep_choice',\n",
        "#                 'non_hist_ep_integration', 'non_hist_ep_choice',\n",
        "#                 'true_hist_abvlow_ep_integration', 'true_hist_abvlow_ep_choice',\n",
        "#                 'fake_hist_abvlow_ep_integration', 'fake_hist_abvlow_ep_choice',\n",
        "#                 'abstract_hist_abvlow_ep_integration', 'abstract_hist_abvlow_ep_choice',\n",
        "#                 'non_hist_abvlow_ep_integration'\n",
        "#                  ]]  # all variables are significant adj_R2=0.940\n",
        "\n",
        "\n",
        "# X = merged_data[['constitudedness',\n",
        "#                 'abstract_hist_ep',\n",
        "#                 'true_hist_abvlow_ep','abstract_hist_abvlow_ep',\n",
        "#                 'non_hist_abvlow_ep',\n",
        "#                 'high_quality_ep_integration',\n",
        "#                 'non_hist_ep_choice',\n",
        "#                 'fake_hist_abvlow_ep_choice',\n",
        "#                 'abstract_hist_abvlow_ep_choice',\n",
        "#                 'non_hist_abvlow_ep_integration'\n",
        "#                  ]]  # all variables are significant adj_R2=0.89\n",
        "\n",
        "\n",
        "# X = merged_data[['constitudedness',\n",
        "#                 'true_hist_abvlow_ep',\n",
        "#                 'non_hist_abvlow_ep',\n",
        "#                 'high_quality_ep_integration',\n",
        "#                 'non_hist_abvlow_ep_integration'\n",
        "#                  ]]  # all variables are significant adj_R2=0.77\n",
        "\n"
      ]
    },
    {
      "cell_type": "code",
      "execution_count": null,
      "metadata": {
        "colab": {
          "base_uri": "https://localhost:8080/",
          "height": 1000
        },
        "id": "nR90TjPGaep9",
        "outputId": "21844d43-28d1-4813-921e-8055871ac792"
      },
      "outputs": [
        {
          "output_type": "stream",
          "name": "stdout",
          "text": [
            "                 Generalized Linear Model Regression Results                  \n",
            "==============================================================================\n",
            "Dep. Variable:               check_in   No. Observations:                   51\n",
            "Model:                            GLM   Df Residuals:                       45\n",
            "Model Family:                 Poisson   Df Model:                            5\n",
            "Link Function:                    Log   Scale:                          1.0000\n",
            "Method:                          IRLS   Log-Likelihood:                -425.81\n",
            "Date:                Fri, 25 Oct 2024   Deviance:                       662.00\n",
            "Time:                        05:32:02   Pearson chi2:                     613.\n",
            "No. Iterations:                     5   Pseudo R-squ. (CS):              1.000\n",
            "Covariance Type:                  HC2                                         \n",
            "===================================================================================================\n",
            "                                      coef    std err          z      P>|z|      [0.025      0.975]\n",
            "---------------------------------------------------------------------------------------------------\n",
            "constitudedness                     1.5708      0.289      5.438      0.000       1.005       2.137\n",
            "choice                             -2.4159      1.100     -2.196      0.028      -4.572      -0.260\n",
            "high_quality_ep                     0.7082      0.093      7.618      0.000       0.526       0.890\n",
            "fake_hist_ep                        0.2166      0.068      3.182      0.001       0.083       0.350\n",
            "non_hist_ep                        -0.2381      0.114     -2.082      0.037      -0.462      -0.014\n",
            "true_hist_abvlow_ep_integration     2.5966      0.230     11.289      0.000       2.146       3.047\n",
            "===================================================================================================\n",
            "R-squared: 0.8950966014365472\n",
            "Adjusted R-squared: 0.8834406682628302\n",
            "QIC: 663.9054228597871\n",
            "                          Variable       VIF\n",
            "0                  constitudedness  5.400885\n",
            "1                           choice  4.603009\n",
            "2                  high_quality_ep  3.889416\n",
            "3                     fake_hist_ep  3.606018\n",
            "4                      non_hist_ep  2.914577\n",
            "5  true_hist_abvlow_ep_integration  5.871545\n"
          ]
        },
        {
          "output_type": "display_data",
          "data": {
            "text/plain": [
              "<Figure size 640x480 with 1 Axes>"
            ],
            "image/png": "[encoded data removed]"
          },
          "metadata": {}
        }
      ],
      "source": [
        "# Fit a Generalized Linear Model (GLM)\n",
        "# X = sm.add_constant(X)\n",
        "model = sm.GLM(y, X, family=sm.families.Poisson())\n",
        "\n",
        "result = model.fit(cov_type='HC2')\n",
        "\n",
        "# Display the model summary\n",
        "print(result.summary())\n",
        "\n",
        "# Calculate R-squared manually\n",
        "y_mean = np.mean(y)\n",
        "SSTotal = np.sum((y - y_mean)**2)\n",
        "SSResidual = np.sum((y - result.predict(X))**2)\n",
        "r_squared = 1 - (SSResidual / SSTotal)\n",
        "\n",
        "# Calculate adjusted R-squared manually\n",
        "n = len(y)\n",
        "p = len(result.params) - 1  # Number of predictors + intercept\n",
        "adjusted_r_squared = 1 - (SSResidual / (n - p - 1)) / (SSTotal / (n - 1))\n",
        "\n",
        "# Print R-squared and adjusted R-squared\n",
        "print(\"R-squared:\", r_squared)\n",
        "print(\"Adjusted R-squared:\", adjusted_r_squared)\n",
        "\n",
        "# Calculate QIC manually\n",
        "p = len(result.params)\n",
        "n = len(y)\n",
        "deviance = result.deviance\n",
        "qic = deviance + 2 * p * (p + 1) / (n - p - 1)\n",
        "\n",
        "# Print QIC value\n",
        "print(\"QIC:\", qic)\n",
        "\n",
        "\n",
        "# Calculate VIF for each independent variable\n",
        "from statsmodels.stats.outliers_influence import variance_inflation_factor\n",
        "vif = pd.DataFrame()\n",
        "vif[\"Variable\"] = X.columns\n",
        "vif[\"VIF\"] = [variance_inflation_factor(X.values, i) for i in range(X.shape[1])]\n",
        "\n",
        "print(vif)\n",
        "\n",
        "# Plot the actual vs. predicted values\n",
        "y_pred = result.predict(X)\n",
        "\n",
        "y, y_pred = np.array(y), np.array(y_pred)\n",
        "\n",
        "# Linear fit for the scatter plot\n",
        "slope, intercept = np.polyfit(y, y_pred, 1)\n",
        "line = slope * y + intercept\n",
        "\n",
        "plt.scatter(y, y_pred, s=5, alpha=0.6)\n",
        "plt.plot(y, line, label='Best Fit Line', color='red', linewidth=0.5) # Adding the best fit line\n",
        "\n",
        "plt.xlabel(\"Actual y\")\n",
        "plt.ylabel(\"Predicted y\")\n",
        "plt.title(\"Actual vs. Predicted Values\")\n",
        "plt.savefig(\"/content/drive/MyDrive/BNWF8/glm.svg\", transparent=True)\n",
        "plt.show()"
      ]
    },
    {
      "cell_type": "markdown",
      "source": [
        "## 3 - Output merged dataframe for ploting graph in DepthmapX"
      ],
      "metadata": {
        "id": "jBidYved_AFl"
      }
    },
    {
      "cell_type": "code",
      "execution_count": null,
      "metadata": {
        "id": "v-JTE2LgPMED"
      },
      "outputs": [],
      "source": [
        "# integrated segment plan\n",
        "merged_data.to_csv('/content/drive/MyDrive/BNWF8/integrated_segment/results/integrated_df_for_depthmap.csv')\n",
        "\n",
        "# fragmented segment plan\n",
        "# merged_data.to_csv('/content/drive/MyDrive/BNWF8/fragmented_segment/results/fragmented_df_for_depthmap.csv')"
      ]
    }
  ],
  "metadata": {
    "colab": {
      "provenance": []
    },
    "kernelspec": {
      "display_name": "Python 3",
      "name": "python3"
    },
    "language_info": {
      "name": "python"
    }
  },
  "nbformat": 4,
  "nbformat_minor": 0
}